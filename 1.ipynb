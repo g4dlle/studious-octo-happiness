{
 "cells": [
  {
   "cell_type": "code",
   "execution_count": 1,
   "metadata": {},
   "outputs": [],
   "source": [
    "import numpy as np\n",
    "from constants import *"
   ]
  },
  {
   "cell_type": "code",
   "execution_count": 10,
   "metadata": {},
   "outputs": [],
   "source": [
    "from scipy.interpolate import interp1d\n",
    "from constants import *\n",
    "global Di, R1, R2, R3, R4, R5\n",
    "\n",
    "Di = np.zeros((N,2))\n",
    "R1 = np.zeros((N,2))\n",
    "R2 = 6.2e-10\n",
    "R3 = 2e-7*np.exp(-6.2/((T*k)/e))\n",
    "R4 = 2.7e-13*((T*k)/e)**(-3/4)\n",
    "R5 = 8.75e-39*((T*k)/e)**(-9/2)\n",
    "\n",
    "patternD = 'Diffusion coefficient'\n",
    "patternR = 'C1    Ar    Effective (momentum)'\n",
    "with open('output.dat', 'r') as file:\n",
    "    for index, line in enumerate(file):\n",
    "        if patternD in line:\n",
    "            indexD = index\n",
    "        elif patternR in line:\n",
    "            indexR = index\n",
    "            break\n",
    "file = open('output.dat', 'r')\n",
    "lines = file.readlines()\n",
    "for i in range(N):\n",
    "    Di[i] = [float(lines[indexD+1+i][:5]),float(lines[indexD+1+i][-11:-1])]\n",
    "    R1[i] = [float(lines[indexR+2+i][:5]),float(lines[indexR+2+i][-11:-1])]\n",
    "file.close()\n",
    "\n",
    "R1_linear = interp1d(list(i[0] for i in R1), list(i[1] for i in R1), kind = 'linear')\n",
    "Di_linear = interp1d(list(i[0] for i in Di), list(i[1] for i in Di), kind = 'linear')"
   ]
  },
  {
   "cell_type": "code",
   "execution_count": 12,
   "metadata": {},
   "outputs": [
    {
     "data": {
      "text/plain": [
       "array([[1.000e+00, 2.235e-15],\n",
       "       [2.154e+00, 1.899e-15],\n",
       "       [4.642e+00, 1.272e-15],\n",
       "       [1.000e+01, 5.431e-15]])"
      ]
     },
     "execution_count": 12,
     "metadata": {},
     "output_type": "execute_result"
    }
   ],
   "source": [
    "R1"
   ]
  }
 ],
 "metadata": {
  "kernelspec": {
   "display_name": "Python 3",
   "language": "python",
   "name": "python3"
  },
  "language_info": {
   "codemirror_mode": {
    "name": "ipython",
    "version": 3
   },
   "file_extension": ".py",
   "mimetype": "text/x-python",
   "name": "python",
   "nbconvert_exporter": "python",
   "pygments_lexer": "ipython3",
   "version": "3.12.2"
  }
 },
 "nbformat": 4,
 "nbformat_minor": 2
}
